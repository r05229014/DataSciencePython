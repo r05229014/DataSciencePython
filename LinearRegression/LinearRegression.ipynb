{
 "cells": [
  {
   "cell_type": "markdown",
   "metadata": {},
   "source": [
    "# 單變量與多變量線性回歸 Simple and multiple linear regression\n",
    "\n",
    "在統計學中，線性回歸(Linear Regression)是利用稱為線性回歸方程式的最小平方函數對一個或多個自變數(independet variable)和應變數(dependent variable)之間關係進行建模的一種回歸分析。這種函數是一個或多個稱為回歸係數的模型參數的線性組合。只有一個自變數的情況稱為簡單回歸，大於一個自變數情況的叫做多元回歸(multivariable linear regression) ------ 維基百科\n",
    "\n",
    "而在2019年的今天，我們可以把它稱作機器學習的工具之一，而所謂「回歸」模型指的是我們的目標值是一個連續的值，例如：房價預測、體重的估測等等，我們能夠根據我們持有的特徵(feature)，輸入我們的模型，而我們的模型的預測值是一個連續的數字。也就是:\n",
    "\n",
    "$$f(x) = w_1x_1 + w_2x_2 + ... + w_dx_d + b$$\n",
    "$f : 模型  $, \n",
    "$w : 權重  $, \n",
    "$b : 偏差  $, \n",
    "$x : 輸入特徵  $\n",
    "\n",
    "https://towardsdatascience.com/simple-and-multiple-linear-regression-with-python-c9ab422ec29c"
   ]
  },
  {
   "cell_type": "markdown",
   "metadata": {},
   "source": [
    "# 資料集  Dataset \n",
    "在這講中使用的資料可以從Kaggle上下載。Kaggle是一個線上資料科學社群，而上面能夠找到各式各樣不同的資料集。\n",
    "而這份講義所使用的資料集記錄了5000個男性與5000個女性的身高、體重。在這份講義中，我們會使用這份資料集實作線性回歸。  \n",
    "[資料下載連結](https://www.kaggle.com/mustafaali96/weight-height/version/1)\n",
    "\n",
    "作為一個資料科學家，我們在訓練任何模型之前，我們必須了解資料的本身。因此我們首先帶著大家了解這份資料。"
   ]
  },
  {
   "cell_type": "code",
   "execution_count": null,
   "metadata": {},
   "outputs": [],
   "source": [
    "import pandas as pd \n",
    "\n",
    "# Read the csv file.\n",
    "df = pd.read_csv('weight-height.csv')"
   ]
  }
 ],
 "metadata": {
  "kernelspec": {
   "display_name": "Python 3",
   "language": "python",
   "name": "python3"
  },
  "language_info": {
   "codemirror_mode": {
    "name": "ipython",
    "version": 3
   },
   "file_extension": ".py",
   "mimetype": "text/x-python",
   "name": "python",
   "nbconvert_exporter": "python",
   "pygments_lexer": "ipython3",
   "version": "3.6.8"
  }
 },
 "nbformat": 4,
 "nbformat_minor": 2
}
